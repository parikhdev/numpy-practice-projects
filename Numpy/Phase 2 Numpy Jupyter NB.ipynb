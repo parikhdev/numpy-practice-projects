{
 "cells": [
  {
   "cell_type": "code",
   "execution_count": 7,
   "id": "ac5117bd",
   "metadata": {},
   "outputs": [
    {
     "name": "stdout",
     "output_type": "stream",
     "text": [
      "[0 1 2 3 5 7]\n"
     ]
    },
    {
     "data": {
      "text/plain": [
       "array([[ 1,  4,  3,  6,  4],\n",
       "       [ 2,  6,  5,  6,  5],\n",
       "       [ 3,  8,  7,  9,  7],\n",
       "       [ 9,  9,  8, 11,  7]])"
      ]
     },
     "execution_count": 7,
     "metadata": {},
     "output_type": "execute_result"
    }
   ],
   "source": [
    "import numpy as np\n",
    "\n",
    "# Sorting -> array.sort() or np.sort(array)\n",
    "\n",
    "a = np.array([1,5,7,3,2,0])\n",
    "a.sort()\n",
    "print(a)\n",
    "\n",
    "# Sorting 2D Array -> np.sort(array, Axis = 0\\1)\n",
    "# Axis = 0 -> Columns are Sorted\n",
    "# Axis = 1 -> Rows are Sorted\n",
    "b = np.array([[1,9,3,11,5], [2,6,8,9,7], [3,4,5,6,7], [9,8,7,6,4]])\n",
    "np.sort(b, axis = 0)"
   ]
  },
  {
   "cell_type": "code",
   "execution_count": 16,
   "id": "a3bcef29",
   "metadata": {},
   "outputs": [
    {
     "name": "stdout",
     "output_type": "stream",
     "text": [
      "[ 0  2  4  6  8 10 12 14 16 18 20]\n",
      "[10 11 12 13 14 15 16 17 18 19 20]\n"
     ]
    }
   ],
   "source": [
    "# Filtering\n",
    "\n",
    "e = np.arange(21)\n",
    "f = e[e % 2 == 0]     # array[Mask]\n",
    "print(f)\n",
    "\n",
    "# Mask Condition\n",
    "Mask = e > 9\n",
    "g = e[Mask]\n",
    "print(g)\n"
   ]
  },
  {
   "cell_type": "code",
   "execution_count": 25,
   "id": "7409cf8f",
   "metadata": {},
   "outputs": [
    {
     "name": "stdout",
     "output_type": "stream",
     "text": [
      "[0 2 5]\n",
      "(array([5, 6, 7]),)\n",
      "[5 6 7]\n",
      "[0 1 2 3 4 5 6 7]\n",
      "['False' 'False' 'False' 'False' 'False' 'False' '60' '70']\n"
     ]
    }
   ],
   "source": [
    "# Fancy Indexing\n",
    "\n",
    "num = np.arange(8)\n",
    "index = [0,2,5] \n",
    "print(num[index])\n",
    "\n",
    "# Where \n",
    "num2 = np.where(num>4)\n",
    "print(num2)\n",
    "print(num[num2])\n",
    "\n",
    "# Conditions -> np.where(Main Condition, If true do this, If false do this)\n",
    "num3 = np.where(num>5, num*10, \"False\")\n",
    "print(num)\n",
    "print(num3)"
   ]
  },
  {
   "cell_type": "code",
   "execution_count": null,
   "id": "13324331",
   "metadata": {},
   "outputs": [
    {
     "name": "stdout",
     "output_type": "stream",
     "text": [
      "[0 1 2 3 0 1 2]\n",
      "True\n"
     ]
    }
   ],
   "source": [
    "# Concatenate -> np.concatenate((array1, array2))\n",
    "a1 = np.arange(4)\n",
    "a2 = np.arange(3)\n",
    "a3 = np.concatenate((a1, a2))\n",
    "print(a3)\n",
    "\n",
    "# Compatibility Check -> array1.shape == array2.shape\n",
    "b1 = np.array([1,2,3])\n",
    "b2 = np.array([5,6,7])\n",
    "print(b1.shape==b2.shape)"
   ]
  },
  {
   "cell_type": "code",
   "execution_count": 60,
   "id": "3917b254",
   "metadata": {},
   "outputs": [
    {
     "name": "stdout",
     "output_type": "stream",
     "text": [
      "The array with new row is: \n",
      "[[1 2]\n",
      " [2 3]\n",
      " [6 7]]\n",
      "The array with new col is: \n",
      "[[1 2 6]\n",
      " [2 3 7]]\n",
      "The flattened array is: [1 2 2 3 6 7]\n",
      "The value after delete is:\n",
      "[1 2 2 3 6]\n",
      "The deleted value is:\n",
      "[2 3 7]\n"
     ]
    }
   ],
   "source": [
    "# Adding new Row -> np.vstack((array, new_row)) \n",
    "# (vstack - vertical stack), (hstack - Horizontal stack)\n",
    "arr1 = np.array([[1,2], [2,3]])\n",
    "new_row = np.array([6,7])\n",
    "arr2 = np.vstack((arr1, new_row))\n",
    "print(f\"The array with new row is: \\n{arr2}\")\n",
    "\n",
    "# Adding new Column -> np.hstack((array, new_row)) \n",
    "new_col = np.array([[6], [7]])\n",
    "arr3 = np.hstack((arr1, new_col))\n",
    "print(f\"The array with new col is: \\n{arr3}\")\n",
    "\n",
    "# Deleting -> np.delete(Array, indx)\n",
    "arr_2 = arr2.flatten()\n",
    "print(f\"The flattened array is: {arr_2}\")\n",
    "delete1 = np.delete(arr_2, 5)\n",
    "print(f\"The value after delete is:\\n{delete1}\")\n",
    "\n",
    "\n",
    "# Slice object -> np.s_[start:stop:step]\n",
    "deleted1= np.delete(arr_2, np.s_[0:-1:2])\n",
    "print(f\"The deleted value is:\\n{deleted1}\")\n"
   ]
  }
 ],
 "metadata": {
  "kernelspec": {
   "display_name": "Python 3",
   "language": "python",
   "name": "python3"
  },
  "language_info": {
   "codemirror_mode": {
    "name": "ipython",
    "version": 3
   },
   "file_extension": ".py",
   "mimetype": "text/x-python",
   "name": "python",
   "nbconvert_exporter": "python",
   "pygments_lexer": "ipython3",
   "version": "3.13.5"
  }
 },
 "nbformat": 4,
 "nbformat_minor": 5
}

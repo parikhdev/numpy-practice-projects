{
 "cells": [
  {
   "cell_type": "code",
   "execution_count": 2,
   "id": "ac5117bd",
   "metadata": {},
   "outputs": [
    {
     "name": "stdout",
     "output_type": "stream",
     "text": [
      "[0 1 2 3 5 7]\n"
     ]
    },
    {
     "data": {
      "text/plain": [
       "array([[ 1,  4,  3,  6,  4],\n",
       "       [ 2,  6,  5,  6,  5],\n",
       "       [ 3,  8,  7,  9,  7],\n",
       "       [ 9,  9,  8, 11,  7]])"
      ]
     },
     "execution_count": 2,
     "metadata": {},
     "output_type": "execute_result"
    }
   ],
   "source": [
    "import numpy as np\n",
    "\n",
    "# Sorting -> array.sort() or np.sort(array)\n",
    "\n",
    "a = np.array([1,5,7,3,2,0])\n",
    "a.sort()\n",
    "print(a)\n",
    "\n",
    "# Sorting 2D Array -> np.sort(array, Axis = 0\\1)\n",
    "# Axis = 0 -> Columns are Sorted\n",
    "# Axis = 1 -> Rows are Sorted\n",
    "b = np.array([[1,9,3,11,5], [2,6,8,9,7], [3,4,5,6,7], [9,8,7,6,4]])\n",
    "np.sort(b, axis = 0)"
   ]
  },
  {
   "cell_type": "code",
   "execution_count": 3,
   "id": "a3bcef29",
   "metadata": {},
   "outputs": [
    {
     "name": "stdout",
     "output_type": "stream",
     "text": [
      "[ 0  1  2  3  4  5  6  7  8  9 10 11 12 13 14 15 16 17 18 19 20]\n",
      "[ 0  2  4  6  8 10 12 14 16 18 20]\n",
      "[10 11 12 13 14 15 16 17 18 19 20]\n"
     ]
    }
   ],
   "source": [
    "# Filtering\n",
    "\n",
    "e = np.arange(21)\n",
    "print(e)\n",
    "f = e[e % 2 == 0]     # array[Mask]\n",
    "print(f)\n",
    "\n",
    "# Mask Condition\n",
    "Mask = e > 9\n",
    "g = e[Mask]\n",
    "print(g)\n"
   ]
  },
  {
   "cell_type": "code",
   "execution_count": 7,
   "id": "7409cf8f",
   "metadata": {},
   "outputs": [
    {
     "name": "stdout",
     "output_type": "stream",
     "text": [
      "[0, 2, 5]\n",
      "[0 2 5]\n",
      "(array([5, 6, 7]),)\n",
      "[5 6 7]\n"
     ]
    }
   ],
   "source": [
    "# Fancy Indexing\n",
    "\n",
    "num = np.arange(8)\n",
    "index = [0,2,5] \n",
    "print(num[index])\n",
    "\n",
    "# Where \n",
    "num2 = np.where(num>4)\n",
    "print(num2)\n",
    "print(num[num2])\n"
   ]
  },
  {
   "cell_type": "code",
   "execution_count": 6,
   "id": "29bb3d18",
   "metadata": {},
   "outputs": [
    {
     "name": "stdout",
     "output_type": "stream",
     "text": [
      "[0 1 2 3 4 5 6 7]\n",
      "['False' 'False' 'False' 'False' 'False' 'False' '60' '70']\n"
     ]
    }
   ],
   "source": [
    "# Conditions -> np.where(Main Condition, If true do this, If false do this)\n",
    "num3 = np.where(num>5, num*10, \"False\")\n",
    "print(num)\n",
    "print(num3)"
   ]
  },
  {
   "cell_type": "code",
   "execution_count": null,
   "id": "13324331",
   "metadata": {},
   "outputs": [
    {
     "name": "stdout",
     "output_type": "stream",
     "text": [
      "[0 1 2 3 0 1 2]\n",
      "True\n"
     ]
    }
   ],
   "source": [
    "# Concatenate -> np.concatenate((array1, array2))\n",
    "a1 = np.arange(4)\n",
    "a2 = np.arange(3)\n",
    "a3 = np.concatenate((a1, a2))\n",
    "print(a3)\n",
    "\n",
    "# Compatibility Check -> array1.shape == array2.shape\n",
    "b1 = np.array([1,2,3])\n",
    "b2 = np.array([5,6,7])\n",
    "print(b1.shape==b2.shape)"
   ]
  },
  {
   "cell_type": "code",
   "execution_count": 8,
   "id": "3917b254",
   "metadata": {},
   "outputs": [
    {
     "name": "stdout",
     "output_type": "stream",
     "text": [
      "The array with new row is: \n",
      "[[1 2]\n",
      " [2 3]\n",
      " [6 7]]\n"
     ]
    }
   ],
   "source": [
    "# Adding new Row -> np.vstack((array, new_row)) \n",
    "# (vstack - vertical stack), (hstack - Horizontal stack)\n",
    "arr1 = np.array([[1,2], [2,3]])\n",
    "new_row = np.array([6,7])\n",
    "arr2 = np.vstack((arr1, new_row))\n",
    "print(f\"The array with new row is: \\n{arr2}\")\n"
   ]
  },
  {
   "cell_type": "code",
   "execution_count": 10,
   "id": "657b7d9f",
   "metadata": {},
   "outputs": [
    {
     "name": "stdout",
     "output_type": "stream",
     "text": [
      "The array with new col is: \n",
      "[[1 2 6]\n",
      " [2 3 7]]\n",
      "The flattened array is: [1 2 2 3 6 7]\n"
     ]
    }
   ],
   "source": [
    "# Adding new Column -> np.hstack((array, new_col)) \n",
    "new_col = np.array([[6], [7]])\n",
    "arr3 = np.hstack((arr1, new_col))\n",
    "print(f\"The array with new col is: \\n{arr3}\")\n",
    "\n",
    "# Deleting -> np.delete(Array, indx)\n",
    "arr_2 = arr2.flatten()\n",
    "print(f\"The flattened array is: {arr_2}\")\n"
   ]
  },
  {
   "cell_type": "code",
   "execution_count": 11,
   "id": "08132216",
   "metadata": {},
   "outputs": [
    {
     "name": "stdout",
     "output_type": "stream",
     "text": [
      "The value after delete is:\n",
      "[1 2 2 3 6]\n",
      "The deleted value is:\n",
      "[2 3 7]\n"
     ]
    }
   ],
   "source": [
    "delete1 = np.delete(arr_2, 5)\n",
    "print(f\"The value after delete is:\\n{delete1}\")\n",
    "\n",
    "\n",
    "# Slice object -> np.s_[start:stop:step]\n",
    "deleted1= np.delete(arr_2, np.s_[0:-1:2])\n",
    "print(f\"The deleted value is:\\n{deleted1}\")"
   ]
  },
  {
   "cell_type": "code",
   "execution_count": 12,
   "id": "71f42b51",
   "metadata": {},
   "outputs": [
    {
     "name": "stdout",
     "output_type": "stream",
     "text": [
      "[ 0.   2.5  5.   7.5 10. ]\n",
      "[ 0  5 10]\n"
     ]
    }
   ],
   "source": [
    "# Create Array of evenly spaced Value. (you need) -> np.linspace(start_value, end_value, Total values you need between them)\n",
    "abc = np.linspace(0,10,5)\n",
    "print(abc)\n",
    "\n",
    "# Create Array of evenly spaced Value. -> np.arange(start_value, end_value, Step Value)\n",
    "bcd = np.arange(0,11,5)\n",
    "print(bcd)"
   ]
  },
  {
   "cell_type": "code",
   "execution_count": 14,
   "id": "56154628",
   "metadata": {},
   "outputs": [
    {
     "name": "stdout",
     "output_type": "stream",
     "text": [
      "[[12 11 15]\n",
      " [17 13 19]\n",
      " [12 18 14]]\n",
      "[[20 25 21]\n",
      " [26 24 27]\n",
      " [27 22 26]]\n"
     ]
    }
   ],
   "source": [
    "# Array Maths\n",
    "\n",
    "a = np.random.randint(10,20,(3,3))\n",
    "b = np.random.randint(20,30,(3,3))\n",
    "print(a)\n",
    "print(b)"
   ]
  },
  {
   "cell_type": "code",
   "execution_count": 16,
   "id": "d9cc52ef",
   "metadata": {},
   "outputs": [
    {
     "name": "stdout",
     "output_type": "stream",
     "text": [
      "sum is:\n",
      " [[32 36 36]\n",
      " [43 37 46]\n",
      " [39 40 40]]\n",
      "diff is:\n",
      " [[ -8 -14  -6]\n",
      " [ -9 -11  -8]\n",
      " [-15  -4 -12]]\n",
      "mul is:\n",
      " [[240 275 315]\n",
      " [442 312 513]\n",
      " [324 396 364]]\n",
      "div is:\n",
      " [[0.6        0.44       0.71428571]\n",
      " [0.65384615 0.54166667 0.7037037 ]\n",
      " [0.44444444 0.81818182 0.53846154]]\n"
     ]
    }
   ],
   "source": [
    "print(\"sum is:\\n\", a+b)\n",
    "print(\"diff is:\\n\", a-b)\n",
    "print(\"mul is:\\n\", a*b)\n",
    "print(\"div is:\\n\", a/b)"
   ]
  },
  {
   "cell_type": "code",
   "execution_count": 17,
   "id": "17c32bf8",
   "metadata": {},
   "outputs": [
    {
     "name": "stdout",
     "output_type": "stream",
     "text": [
      "sum is:\n",
      " [[32 36 36]\n",
      " [43 37 46]\n",
      " [39 40 40]]\n",
      "diff is:\n",
      " [[ -8 -14  -6]\n",
      " [ -9 -11  -8]\n",
      " [-15  -4 -12]]\n",
      "mul is:\n",
      " [[240 275 315]\n",
      " [442 312 513]\n",
      " [324 396 364]]\n",
      "div is:\n",
      " [[0.6        0.44       0.71428571]\n",
      " [0.65384615 0.54166667 0.7037037 ]\n",
      " [0.44444444 0.81818182 0.53846154]]\n"
     ]
    }
   ],
   "source": [
    "# Another method\n",
    "print(\"sum is:\\n\", np.add(a, b))\n",
    "print(\"diff is:\\n\", np.subtract(a, b))\n",
    "print(\"mul is:\\n\", np.multiply(a, b))\n",
    "print(\"div is:\\n\", np.divide(a, b))"
   ]
  }
 ],
 "metadata": {
  "kernelspec": {
   "display_name": "Python 3",
   "language": "python",
   "name": "python3"
  },
  "language_info": {
   "codemirror_mode": {
    "name": "ipython",
    "version": 3
   },
   "file_extension": ".py",
   "mimetype": "text/x-python",
   "name": "python",
   "nbconvert_exporter": "python",
   "pygments_lexer": "ipython3",
   "version": "3.13.5"
  }
 },
 "nbformat": 4,
 "nbformat_minor": 5
}

{
 "cells": [
  {
   "cell_type": "markdown",
   "id": "ec83a75f",
   "metadata": {},
   "source": [
    "# Create Array \n",
    "np.array()\n"
   ]
  },
  {
   "cell_type": "code",
   "execution_count": 1,
   "id": "3a97bbaa",
   "metadata": {},
   "outputs": [
    {
     "name": "stdout",
     "output_type": "stream",
     "text": [
      "[1 2 3 4 5]\n",
      "[[1 2 3 4]\n",
      " [3 2 1 5]\n",
      " [1 2 3 6]]\n"
     ]
    }
   ],
   "source": [
    "import numpy as np\n",
    "a = np.array([1,2,3,4,5], dtype = \"int16\")\n",
    "print(a)\n",
    "b = np.array([[1, 2, 3, 4], [3, 2, 1, 5],[1, 2, 3, 6]])\n",
    "print(b)"
   ]
  },
  {
   "cell_type": "markdown",
   "id": "24b46739",
   "metadata": {},
   "source": [
    "# Get Dimension (a.ndim)"
   ]
  },
  {
   "cell_type": "code",
   "execution_count": 2,
   "id": "fcb6a4b7",
   "metadata": {},
   "outputs": [
    {
     "name": "stdout",
     "output_type": "stream",
     "text": [
      "1\n",
      "2\n"
     ]
    }
   ],
   "source": [
    "print(a.ndim)\n",
    "print(b.ndim)"
   ]
  },
  {
   "cell_type": "markdown",
   "id": "3a0624f0",
   "metadata": {},
   "source": [
    "# Get Shape (a.shape)"
   ]
  },
  {
   "cell_type": "code",
   "execution_count": 14,
   "id": "14974b26",
   "metadata": {},
   "outputs": [
    {
     "name": "stdout",
     "output_type": "stream",
     "text": [
      "(5,)\n",
      "(3, 4)\n"
     ]
    }
   ],
   "source": [
    "print(a.shape)\n",
    "print(b.shape)"
   ]
  },
  {
   "cell_type": "code",
   "execution_count": null,
   "id": "45881849",
   "metadata": {},
   "outputs": [
    {
     "name": "stdout",
     "output_type": "stream",
     "text": [
      "int16\n",
      "int64\n"
     ]
    }
   ],
   "source": [
    "# Get type (a.dtype)\n",
    "\n",
    "print(a.dtype)\n",
    "print(b.dtype)\n",
    "\n",
    "# Can change type by using dtype = \"int16\""
   ]
  },
  {
   "cell_type": "code",
   "execution_count": 22,
   "id": "c9def0ce",
   "metadata": {},
   "outputs": [
    {
     "name": "stdout",
     "output_type": "stream",
     "text": [
      "8\n",
      "12\n",
      "96\n"
     ]
    }
   ],
   "source": [
    "# Get itemSize (a.itemsize)\n",
    "print(b.itemsize)\n",
    "\n",
    "# Get Size (a.size)\n",
    "print(b.size)\n",
    "\n",
    "# Get Total_Size (a.nbytes) = a.size * a.itemsize\n",
    "print(b.nbytes)"
   ]
  },
  {
   "cell_type": "code",
   "execution_count": null,
   "id": "e69f60ba",
   "metadata": {},
   "outputs": [
    {
     "name": "stdout",
     "output_type": "stream",
     "text": [
      "2\n",
      "6\n",
      "[1 2 3 4]\n",
      "[1 3 1]\n",
      "[1 3]\n",
      "[[1 2]\n",
      " [3 2]\n",
      " [1 2]]\n"
     ]
    }
   ],
   "source": [
    "# Get a Specific Element [r, c]\n",
    "print(b[0,1])\n",
    "print(b[-1,-1])\n",
    "\n",
    "# Get a specific row [r, :]\n",
    "print(b[0, :])\n",
    "\n",
    "# Get a specific column [:, c]\n",
    "print(b[:, 0])\n",
    "\n",
    "# Step size [row/column, starting index: Ending index: StepSize]\n",
    "print(b[0,  0:: 2]) # For row\n",
    "print(b[:, 0:2:1]) # For Column"
   ]
  },
  {
   "cell_type": "code",
   "execution_count": null,
   "id": "ce53b5db",
   "metadata": {},
   "outputs": [
    {
     "data": {
      "text/plain": [
       "array([[[101, 101, 101, 101],\n",
       "        [101, 101, 101, 101],\n",
       "        [101, 101, 101, 101]],\n",
       "\n",
       "       [[101, 101, 101, 101],\n",
       "        [101, 101, 101, 101],\n",
       "        [101, 101, 101, 101]]])"
      ]
     },
     "execution_count": 26,
     "metadata": {},
     "output_type": "execute_result"
    }
   ],
   "source": [
    "# Create a Data set of any numbers -> np.full(shape, number, dtype)\n",
    "x = np.full((2,3,4), 100, dtype = \"int\")\n",
    "\n",
    "# Create a Data set of any numbers _like -> np.full_like(array, number)\n",
    "np.full_like(x, 101)\n",
    "\n"
   ]
  },
  {
   "cell_type": "code",
   "execution_count": 20,
   "id": "f2821548",
   "metadata": {},
   "outputs": [
    {
     "name": "stdout",
     "output_type": "stream",
     "text": [
      "[[[1 1 1]\n",
      "  [1 1 1]]\n",
      "\n",
      " [[1 1 1]\n",
      "  [1 1 1]]]\n"
     ]
    },
    {
     "data": {
      "text/plain": [
       "array([[[0, 0, 0],\n",
       "        [0, 0, 0]],\n",
       "\n",
       "       [[0, 0, 0],\n",
       "        [0, 0, 0]]])"
      ]
     },
     "execution_count": 20,
     "metadata": {},
     "output_type": "execute_result"
    }
   ],
   "source": [
    "# Create a Data set of Ones -> np.ones((shape), dtype)\n",
    "y = np.ones((2,2,3), dtype = \"int\")\n",
    "print(y)\n",
    "\n",
    "# Create a Data set of Zeros -> np.zeros((shape), dtype)\n",
    "np.zeros((y.shape), dtype = \"int\")"
   ]
  },
  {
   "cell_type": "code",
   "execution_count": 54,
   "id": "c831be96",
   "metadata": {},
   "outputs": [
    {
     "data": {
      "text/plain": [
       "array([[[0.75909602, 0.00525511, 0.0104851 , 0.34749713],\n",
       "        [0.57569164, 0.83394618, 0.37464032, 0.76147106],\n",
       "        [0.70707917, 0.10396812, 0.62366431, 0.41568052]],\n",
       "\n",
       "       [[0.18562802, 0.19047171, 0.15805194, 0.64730172],\n",
       "        [0.64742063, 0.49662557, 0.37634068, 0.08747551],\n",
       "        [0.55822455, 0.92092822, 0.17905556, 0.04012948]]])"
      ]
     },
     "execution_count": 54,
     "metadata": {},
     "output_type": "execute_result"
    }
   ],
   "source": [
    "# Create the Data set of any random decimal numbers -> np.random.rand(shape)\n",
    "np.random.rand(3,2,4)\n",
    "\n",
    "# Create the Data set of any random decimal number of defined _sample -> np.random.random_sample(array.shape)\n",
    "np.random.random_sample(x.shape)"
   ]
  },
  {
   "cell_type": "code",
   "execution_count": 58,
   "id": "1d446a44",
   "metadata": {},
   "outputs": [
    {
     "data": {
      "text/plain": [
       "array([[[ 34,  36],\n",
       "        [142, 157],\n",
       "        [ 28, 979]],\n",
       "\n",
       "       [[131,  82],\n",
       "        [191, 234],\n",
       "        [557, 537]]])"
      ]
     },
     "execution_count": 58,
     "metadata": {},
     "output_type": "execute_result"
    }
   ],
   "source": [
    "# Create the Data set of any integer -> np.random.randint(start_value, end_value, size = (x,y..)\n",
    "np.random.randint(10, 1000, size=(2,3,2))"
   ]
  },
  {
   "cell_type": "code",
   "execution_count": 23,
   "id": "b5af5323",
   "metadata": {},
   "outputs": [
    {
     "name": "stdout",
     "output_type": "stream",
     "text": [
      "[[1. 0. 0. 0.]\n",
      " [0. 1. 0. 0.]\n",
      " [0. 0. 1. 0.]\n",
      " [0. 0. 0. 1.]]\n",
      "[[1. 0. 0. 0.]\n",
      " [0. 1. 0. 0.]\n",
      " [0. 0. 1. 0.]\n",
      " [0. 0. 0. 1.]]\n",
      "<class 'numpy.ndarray'>\n"
     ]
    }
   ],
   "source": [
    "# Identity Matrix -> np.identity(shape)\n",
    "identity_array = np.identity(4)\n",
    "print(identity_array)\n",
    "\n",
    "# Another way identity matrix-> np.eye(shape)\n",
    "iden_array = np.eye(4)\n",
    "print(iden_array)\n",
    "print(type(iden_array))\n",
    "\n"
   ]
  },
  {
   "cell_type": "code",
   "execution_count": 25,
   "id": "c657b63c",
   "metadata": {},
   "outputs": [
    {
     "name": "stdout",
     "output_type": "stream",
     "text": [
      "[[1 2 3 4]\n",
      " [1 2 3 4]\n",
      " [1 2 3 4]\n",
      " [1 2 3 4]\n",
      " [1 2 3 4]]\n",
      "[[1 1 1 1 1 2 2 2 2 2 3 3 3 3 3 4 4 4 4 4]]\n",
      "[ 0  1  2  3  4  5  6  7  8  9 10 11 12 13 14 15]\n"
     ]
    }
   ],
   "source": [
    "# Repeat an Array -> np.repeat(array, number, axis=0\\1)\n",
    "arr = np.array([[1,2,3,4]])\n",
    "r = np.repeat(arr,5, axis=0)\n",
    "print(r)\n",
    "\n",
    "s = np.repeat(arr,5, axis=1)\n",
    "print(s)\n",
    "\n",
    "# Arange -> np.arange(number)\n",
    "c = np.arange(16)\n",
    "print(c)"
   ]
  },
  {
   "cell_type": "code",
   "execution_count": 26,
   "id": "cc57d755",
   "metadata": {},
   "outputs": [
    {
     "name": "stdout",
     "output_type": "stream",
     "text": [
      "[[ 0  1  2  3]\n",
      " [ 4  5  6  7]\n",
      " [ 8  9 10 11]\n",
      " [12 13 14 15]]\n",
      "\n",
      " [ 0  1  2  3  4  5  6  7  8  9 10 11 12 13 14 15]\n",
      "[ 0  1  2  3  4  5  6  7  8  9 10 11 12 13 14 15]\n"
     ]
    },
    {
     "data": {
      "text/plain": [
       "array([[ 0,  4,  8, 12],\n",
       "       [ 1,  5,  9, 13],\n",
       "       [ 2,  6, 10, 14],\n",
       "       [ 3,  7, 11, 15]])"
      ]
     },
     "execution_count": 26,
     "metadata": {},
     "output_type": "execute_result"
    }
   ],
   "source": [
    "# Reshape -> Array.reshape((shape))\n",
    "d = c.reshape((4,4))\n",
    "print(d)\n",
    "\n",
    "# Flatten -> Array.flatten()\n",
    "e = d.flatten()\n",
    "print(\"\\n\",e)\n",
    "# It gives copy\n",
    "\n",
    "# Ravel -> Array.ravel() \n",
    "f = c.ravel()\n",
    "print(f)\n",
    "# It gives original view\n",
    "\n",
    "#Transpose -> Array.T\n",
    "d.T"
   ]
  },
  {
   "cell_type": "code",
   "execution_count": 4,
   "id": "af4ba468",
   "metadata": {},
   "outputs": [
    {
     "name": "stdout",
     "output_type": "stream",
     "text": [
      "<class 'list'>\n",
      "[1 2 3 4 5 6]\n",
      "<class 'numpy.ndarray'>\n"
     ]
    }
   ],
   "source": [
    "# List as Numpy Array -> np.asarray(list)\n",
    "List = [1,2,3,4,5,6]\n",
    "print(type(List))\n",
    "np_array = np.asarray(List)\n",
    "print(np_array)\n",
    "print(type(np_array))"
   ]
  }
 ],
 "metadata": {
  "kernelspec": {
   "display_name": "Python 3",
   "language": "python",
   "name": "python3"
  },
  "language_info": {
   "codemirror_mode": {
    "name": "ipython",
    "version": 3
   },
   "file_extension": ".py",
   "mimetype": "text/x-python",
   "name": "python",
   "nbconvert_exporter": "python",
   "pygments_lexer": "ipython3",
   "version": "3.13.5"
  }
 },
 "nbformat": 4,
 "nbformat_minor": 5
}
